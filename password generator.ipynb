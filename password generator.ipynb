{
 "cells": [
  {
   "cell_type": "code",
   "execution_count": 5,
   "id": "bd4cd1aa-f8a7-4db1-a7f5-26cf52e7cd84",
   "metadata": {},
   "outputs": [
    {
     "name": "stdout",
     "output_type": "stream",
     "text": [
      "welcome to random password generator\n"
     ]
    },
    {
     "name": "stdin",
     "output_type": "stream",
     "text": [
      "enter the number of passwords to be generator: 5\n",
      "please enter the number of password to be generated: 7\n"
     ]
    },
    {
     "name": "stdout",
     "output_type": "stream",
     "text": [
      "here are your random password:\n",
      "8p@PT0e\n",
      "dlbOUx@\n",
      "A5aob5h\n",
      "H4AxuOv\n",
      "tQ!ihy@\n"
     ]
    }
   ],
   "source": [
    "#random password generator\n",
    "import random\n",
    "print(\"welcome to random password generator\")\n",
    "randomchars=\"ABCDEFGHIJKLMNOPQRSTUVWXYZabcdefghijklmnopqrstuvwxyz0123456789!@#$%^&*\"\n",
    "nbroofpwds=int(input(\"enter the number of passwords to be generator:\"))\n",
    "pwdlen=int(input(\"please enter the number of password to be generated:\"))\n",
    "print(\"here are your random password:\")\n",
    "for x in range(nbroofpwds):\n",
    "   pwd=\"\"\n",
    "   for chars in range(pwdlen):\n",
    "     pwd=pwd+random.choice(randomchars)\n",
    "   print(pwd)"
   ]
  },
  {
   "cell_type": "code",
   "execution_count": null,
   "id": "612f6532-c794-46e5-8864-8e6aa8cbf6bd",
   "metadata": {},
   "outputs": [],
   "source": []
  }
 ],
 "metadata": {
  "kernelspec": {
   "display_name": "Python 3 (ipykernel)",
   "language": "python",
   "name": "python3"
  },
  "language_info": {
   "codemirror_mode": {
    "name": "ipython",
    "version": 3
   },
   "file_extension": ".py",
   "mimetype": "text/x-python",
   "name": "python",
   "nbconvert_exporter": "python",
   "pygments_lexer": "ipython3",
   "version": "3.12.4"
  }
 },
 "nbformat": 4,
 "nbformat_minor": 5
}
