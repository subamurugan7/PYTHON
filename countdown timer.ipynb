{
 "cells": [
  {
   "cell_type": "code",
   "execution_count": 24,
   "id": "06dd2029-4c07-4d14-95cd-ea90355fb32f",
   "metadata": {},
   "outputs": [
    {
     "name": "stdin",
     "output_type": "stream",
     "text": [
      "please enter number of seconds: 9\n"
     ]
    },
    {
     "name": "stdout",
     "output_type": "stream",
     "text": [
      "countdown over!\n"
     ]
    }
   ],
   "source": [
    "#counter timer\n",
    "import time\n",
    "def countdowntimer(t):\n",
    "   while t:\n",
    "       mins,secs=divmod(t,60)\n",
    "       timer='{:02d}:{:02d}'.format(mins,secs)\n",
    "       print(timer,end='\\r')\n",
    "       time.sleep(1)\n",
    "       t=t-1\n",
    "   print(\"countdown over!\")\n",
    "\n",
    "\n",
    "t=int(input(\"please enter number of seconds:\"))\n",
    "countdowntimer(t)"
   ]
  },
  {
   "cell_type": "code",
   "execution_count": null,
   "id": "c227c932-23e1-4aa2-a438-73d61ee4e9e5",
   "metadata": {},
   "outputs": [],
   "source": []
  }
 ],
 "metadata": {
  "kernelspec": {
   "display_name": "Python 3 (ipykernel)",
   "language": "python",
   "name": "python3"
  },
  "language_info": {
   "codemirror_mode": {
    "name": "ipython",
    "version": 3
   },
   "file_extension": ".py",
   "mimetype": "text/x-python",
   "name": "python",
   "nbconvert_exporter": "python",
   "pygments_lexer": "ipython3",
   "version": "3.12.4"
  }
 },
 "nbformat": 4,
 "nbformat_minor": 5
}
